{
 "cells": [
  {
   "cell_type": "code",
   "execution_count": 1,
   "metadata": {},
   "outputs": [],
   "source": [
    "import os\n",
    "import csv\n",
    "import pandas as pd"
   ]
  },
  {
   "cell_type": "code",
   "execution_count": 2,
   "metadata": {},
   "outputs": [],
   "source": [
    "folder = './pages/'\n",
    "\n",
    "fn_list = []\n",
    "dn_list = []\n",
    "d_revisions = []"
   ]
  },
  {
   "cell_type": "code",
   "execution_count": 3,
   "metadata": {},
   "outputs": [],
   "source": [
    "# Obtain full list of directories from the old site\n",
    "for (dirpath, dirnames, filenames) in os.walk(folder):\n",
    "    for d in dirnames:\n",
    "        dn = os.path.join(dirpath, d)\n",
    "        dn_list.append(dn)\n",
    "dn_list.sort()"
   ]
  },
  {
   "cell_type": "code",
   "execution_count": 4,
   "metadata": {},
   "outputs": [],
   "source": [
    "# If 'revisions' is in a directory, get the last revision file with dir path\n",
    "for d in dn_list:\n",
    "    if \"revisions\" in d:\n",
    "        temp_list = []\n",
    "        for (dirpath, dirnames, filenames) in os.walk(d):\n",
    "            for f in filenames:\n",
    "                fn = os.path.join(dirpath, f)\n",
    "                temp_list.append(fn)\n",
    "        temp_list.sort()\n",
    "        fn_list.append(temp_list[-1])\n",
    "fn_list.sort()"
   ]
  },
  {
   "cell_type": "code",
   "execution_count": 5,
   "metadata": {},
   "outputs": [],
   "source": [
    "# Create a table with all the relevant data from the last revision file\n",
    "content_table = []\n",
    "for fn in fn_list:\n",
    "    (dirname, filename) = os.path.split(fn)\n",
    "    open_file = open(fn, 'r')\n",
    "    file_text = open_file.read()\n",
    "    table_row = [dirname, file_text]\n",
    "    content_table.append(table_row)"
   ]
  },
  {
   "cell_type": "code",
   "execution_count": 6,
   "metadata": {},
   "outputs": [],
   "source": [
    "# Convert table to CSV\n",
    "with open(\"output.csv\", \"w\", newline=\"\") as output:\n",
    "    writer = csv.writer(output)\n",
    "    writer.writerows(content_table)\n",
    "\n",
    "# Note if needed: \n",
    "# os.path.dirname(os.path.dirname(fn))  # directory of directory of file"
   ]
  },
  {
   "cell_type": "code",
   "execution_count": 7,
   "metadata": {},
   "outputs": [
    {
     "data": {
      "text/html": [
       "<div>\n",
       "<style scoped>\n",
       "    .dataframe tbody tr th:only-of-type {\n",
       "        vertical-align: middle;\n",
       "    }\n",
       "\n",
       "    .dataframe tbody tr th {\n",
       "        vertical-align: top;\n",
       "    }\n",
       "\n",
       "    .dataframe thead th {\n",
       "        text-align: right;\n",
       "    }\n",
       "</style>\n",
       "<table border=\"1\" class=\"dataframe\">\n",
       "  <thead>\n",
       "    <tr style=\"text-align: right;\">\n",
       "      <th></th>\n",
       "      <th>File_Path</th>\n",
       "      <th>Content</th>\n",
       "    </tr>\n",
       "  </thead>\n",
       "  <tbody>\n",
       "    <tr>\n",
       "      <th>0</th>\n",
       "      <td>./pages/2019(2d)02(2d)21(2d)initial(2d)jersey(...</td>\n",
       "      <td>= 2019-02-21 Initial Jersey Meetup =\\n\\n17:30 ...</td>\n",
       "    </tr>\n",
       "    <tr>\n",
       "      <th>1</th>\n",
       "      <td>./pages/2019(2d)03(2d)26(2d)march(2d)jersey(2d...</td>\n",
       "      <td>= 2019-03-23 March Jersey Meetup =\\n\\n17:30 Di...</td>\n",
       "    </tr>\n",
       "    <tr>\n",
       "      <th>2</th>\n",
       "      <td>./pages/2019(2d)04(2d)24(2d)april(2d)jersey(2d...</td>\n",
       "      <td>## page was renamed from 2019-04-24-march-jers...</td>\n",
       "    </tr>\n",
       "    <tr>\n",
       "      <th>3</th>\n",
       "      <td>./pages/2019(2d)04(2d)24(2d)march(2d)jersey(2d...</td>\n",
       "      <td>Page moved to correct URL: \\n\\nhttps://cipug.o...</td>\n",
       "    </tr>\n",
       "    <tr>\n",
       "      <th>4</th>\n",
       "      <td>./pages/2019(2d)05(2d)may(2d)jersey(2d)meetup\\...</td>\n",
       "      <td>= 2019-05-23 March Jersey Meetup =\\n\\n17:30 - ...</td>\n",
       "    </tr>\n",
       "    <tr>\n",
       "      <th>5</th>\n",
       "      <td>./pages/2019(2d)06(2d)june(2d)jersey(2d)meetup...</td>\n",
       "      <td>= 2019-06-26 June Jersey Meetup =\\n\\n17:30 - U...</td>\n",
       "    </tr>\n",
       "    <tr>\n",
       "      <th>6</th>\n",
       "      <td>./pages/2019(2d)07(2d)july(2d)jersey(2d)meetup...</td>\n",
       "      <td>= 2019-07 July Jersey Meetup =\\n\\n17:30 - Unit...</td>\n",
       "    </tr>\n",
       "    <tr>\n",
       "      <th>7</th>\n",
       "      <td>./pages/2019(2d)08(2d)august(2d)jersey(2d)meet...</td>\n",
       "      <td>= 2019-08-29 August Jersey Meetup =\\n\\n17:30 -...</td>\n",
       "    </tr>\n",
       "    <tr>\n",
       "      <th>8</th>\n",
       "      <td>./pages/2019(2d)09(2d)september(2d)jersey(2d)m...</td>\n",
       "      <td>= 2019-09-?? September Jersey Meetup =\\n\\n17:3...</td>\n",
       "    </tr>\n",
       "    <tr>\n",
       "      <th>9</th>\n",
       "      <td>./pages/2019(2d)10(2d)october(2d)jersey(2d)mee...</td>\n",
       "      <td>= 2019-10-24 October Jersey Meetup =\\n\\n17:30 ...</td>\n",
       "    </tr>\n",
       "    <tr>\n",
       "      <th>10</th>\n",
       "      <td>./pages/BadContent\\revisions</td>\n",
       "      <td>## Please edit system and help pages ONLY in t...</td>\n",
       "    </tr>\n",
       "    <tr>\n",
       "      <th>11</th>\n",
       "      <td>./pages/Guernsey\\revisions</td>\n",
       "      <td>= Guernsey =\\n\\nNothing here yet. \\n\\nIf you'r...</td>\n",
       "    </tr>\n",
       "    <tr>\n",
       "      <th>12</th>\n",
       "      <td>./pages/Jersey\\revisions</td>\n",
       "      <td>= Jersey =\\n\\nThe Jersey chapter is currently ...</td>\n",
       "    </tr>\n",
       "    <tr>\n",
       "      <th>13</th>\n",
       "      <td>./pages/RequestAccount\\revisions</td>\n",
       "      <td>= Request a user account =\\n\\nDue to an almost...</td>\n",
       "    </tr>\n",
       "    <tr>\n",
       "      <th>14</th>\n",
       "      <td>./pages/about\\revisions</td>\n",
       "      <td>= About CIPUG =\\n\\nFounded in March 2019, the ...</td>\n",
       "    </tr>\n",
       "    <tr>\n",
       "      <th>15</th>\n",
       "      <td>./pages/codeofconduct\\revisions</td>\n",
       "      <td>= Channel Islands Python User Group Code of Co...</td>\n",
       "    </tr>\n",
       "    <tr>\n",
       "      <th>16</th>\n",
       "      <td>./pages/frontpage\\revisions</td>\n",
       "      <td>## Please edit system and help pages ONLY in t...</td>\n",
       "    </tr>\n",
       "  </tbody>\n",
       "</table>\n",
       "</div>"
      ],
      "text/plain": [
       "                                            File_Path  \\\n",
       "0   ./pages/2019(2d)02(2d)21(2d)initial(2d)jersey(...   \n",
       "1   ./pages/2019(2d)03(2d)26(2d)march(2d)jersey(2d...   \n",
       "2   ./pages/2019(2d)04(2d)24(2d)april(2d)jersey(2d...   \n",
       "3   ./pages/2019(2d)04(2d)24(2d)march(2d)jersey(2d...   \n",
       "4   ./pages/2019(2d)05(2d)may(2d)jersey(2d)meetup\\...   \n",
       "5   ./pages/2019(2d)06(2d)june(2d)jersey(2d)meetup...   \n",
       "6   ./pages/2019(2d)07(2d)july(2d)jersey(2d)meetup...   \n",
       "7   ./pages/2019(2d)08(2d)august(2d)jersey(2d)meet...   \n",
       "8   ./pages/2019(2d)09(2d)september(2d)jersey(2d)m...   \n",
       "9   ./pages/2019(2d)10(2d)october(2d)jersey(2d)mee...   \n",
       "10                       ./pages/BadContent\\revisions   \n",
       "11                         ./pages/Guernsey\\revisions   \n",
       "12                           ./pages/Jersey\\revisions   \n",
       "13                   ./pages/RequestAccount\\revisions   \n",
       "14                            ./pages/about\\revisions   \n",
       "15                    ./pages/codeofconduct\\revisions   \n",
       "16                        ./pages/frontpage\\revisions   \n",
       "\n",
       "                                              Content  \n",
       "0   = 2019-02-21 Initial Jersey Meetup =\\n\\n17:30 ...  \n",
       "1   = 2019-03-23 March Jersey Meetup =\\n\\n17:30 Di...  \n",
       "2   ## page was renamed from 2019-04-24-march-jers...  \n",
       "3   Page moved to correct URL: \\n\\nhttps://cipug.o...  \n",
       "4   = 2019-05-23 March Jersey Meetup =\\n\\n17:30 - ...  \n",
       "5   = 2019-06-26 June Jersey Meetup =\\n\\n17:30 - U...  \n",
       "6   = 2019-07 July Jersey Meetup =\\n\\n17:30 - Unit...  \n",
       "7   = 2019-08-29 August Jersey Meetup =\\n\\n17:30 -...  \n",
       "8   = 2019-09-?? September Jersey Meetup =\\n\\n17:3...  \n",
       "9   = 2019-10-24 October Jersey Meetup =\\n\\n17:30 ...  \n",
       "10  ## Please edit system and help pages ONLY in t...  \n",
       "11  = Guernsey =\\n\\nNothing here yet. \\n\\nIf you'r...  \n",
       "12  = Jersey =\\n\\nThe Jersey chapter is currently ...  \n",
       "13  = Request a user account =\\n\\nDue to an almost...  \n",
       "14  = About CIPUG =\\n\\nFounded in March 2019, the ...  \n",
       "15  = Channel Islands Python User Group Code of Co...  \n",
       "16  ## Please edit system and help pages ONLY in t...  "
      ]
     },
     "metadata": {},
     "output_type": "display_data"
    }
   ],
   "source": [
    "# Create a Pandas dataframe\n",
    "content_df = pd.DataFrame.from_records(content_table)\n",
    "content_df.columns = [\"File_Path\", \"Content\"]\n",
    "display(content_df)"
   ]
  },
  {
   "cell_type": "markdown",
   "metadata": {},
   "source": [
    "### Interpreting the data.\n",
    "\n",
    "Row index 0:10 are the notes from the 10 meetings to date. The Content column data is marked up in the format from the old site. We can parse through this data to reformat into the new site. For example '/n' for new line can be replaced with the equivelant in html (<br />) or (<p> <p/>)if this is how it is rendered in the new site. The headers wrapped in '=' could be replaced with header tags.\n",
    "\n",
    "We will be able to drop the following rows [10, 13, 16] as the content is only relevant to the old site (@rcwd to confirm).  "
   ]
  },
  {
   "cell_type": "code",
   "execution_count": 8,
   "metadata": {},
   "outputs": [
    {
     "data": {
      "text/html": [
       "<div>\n",
       "<style scoped>\n",
       "    .dataframe tbody tr th:only-of-type {\n",
       "        vertical-align: middle;\n",
       "    }\n",
       "\n",
       "    .dataframe tbody tr th {\n",
       "        vertical-align: top;\n",
       "    }\n",
       "\n",
       "    .dataframe thead th {\n",
       "        text-align: right;\n",
       "    }\n",
       "</style>\n",
       "<table border=\"1\" class=\"dataframe\">\n",
       "  <thead>\n",
       "    <tr style=\"text-align: right;\">\n",
       "      <th></th>\n",
       "      <th>File_Path</th>\n",
       "      <th>Content</th>\n",
       "    </tr>\n",
       "  </thead>\n",
       "  <tbody>\n",
       "    <tr>\n",
       "      <th>0</th>\n",
       "      <td>./pages/2019(2d)02(2d)21(2d)initial(2d)jersey(...</td>\n",
       "      <td>= 2019-02-21 Initial Jersey Meetup =\\n\\n17:30 ...</td>\n",
       "    </tr>\n",
       "    <tr>\n",
       "      <th>1</th>\n",
       "      <td>./pages/2019(2d)03(2d)26(2d)march(2d)jersey(2d...</td>\n",
       "      <td>= 2019-03-23 March Jersey Meetup =\\n\\n17:30 Di...</td>\n",
       "    </tr>\n",
       "    <tr>\n",
       "      <th>2</th>\n",
       "      <td>./pages/2019(2d)04(2d)24(2d)april(2d)jersey(2d...</td>\n",
       "      <td>## page was renamed from 2019-04-24-march-jers...</td>\n",
       "    </tr>\n",
       "    <tr>\n",
       "      <th>3</th>\n",
       "      <td>./pages/2019(2d)04(2d)24(2d)march(2d)jersey(2d...</td>\n",
       "      <td>Page moved to correct URL: \\n\\nhttps://cipug.o...</td>\n",
       "    </tr>\n",
       "    <tr>\n",
       "      <th>4</th>\n",
       "      <td>./pages/2019(2d)05(2d)may(2d)jersey(2d)meetup\\...</td>\n",
       "      <td>= 2019-05-23 March Jersey Meetup =\\n\\n17:30 - ...</td>\n",
       "    </tr>\n",
       "    <tr>\n",
       "      <th>5</th>\n",
       "      <td>./pages/2019(2d)06(2d)june(2d)jersey(2d)meetup...</td>\n",
       "      <td>= 2019-06-26 June Jersey Meetup =\\n\\n17:30 - U...</td>\n",
       "    </tr>\n",
       "    <tr>\n",
       "      <th>6</th>\n",
       "      <td>./pages/2019(2d)07(2d)july(2d)jersey(2d)meetup...</td>\n",
       "      <td>= 2019-07 July Jersey Meetup =\\n\\n17:30 - Unit...</td>\n",
       "    </tr>\n",
       "    <tr>\n",
       "      <th>7</th>\n",
       "      <td>./pages/2019(2d)08(2d)august(2d)jersey(2d)meet...</td>\n",
       "      <td>= 2019-08-29 August Jersey Meetup =\\n\\n17:30 -...</td>\n",
       "    </tr>\n",
       "    <tr>\n",
       "      <th>8</th>\n",
       "      <td>./pages/2019(2d)09(2d)september(2d)jersey(2d)m...</td>\n",
       "      <td>= 2019-09-?? September Jersey Meetup =\\n\\n17:3...</td>\n",
       "    </tr>\n",
       "    <tr>\n",
       "      <th>9</th>\n",
       "      <td>./pages/2019(2d)10(2d)october(2d)jersey(2d)mee...</td>\n",
       "      <td>= 2019-10-24 October Jersey Meetup =\\n\\n17:30 ...</td>\n",
       "    </tr>\n",
       "    <tr>\n",
       "      <th>11</th>\n",
       "      <td>./pages/Guernsey\\revisions</td>\n",
       "      <td>= Guernsey =\\n\\nNothing here yet. \\n\\nIf you'r...</td>\n",
       "    </tr>\n",
       "    <tr>\n",
       "      <th>12</th>\n",
       "      <td>./pages/Jersey\\revisions</td>\n",
       "      <td>= Jersey =\\n\\nThe Jersey chapter is currently ...</td>\n",
       "    </tr>\n",
       "    <tr>\n",
       "      <th>14</th>\n",
       "      <td>./pages/about\\revisions</td>\n",
       "      <td>= About CIPUG =\\n\\nFounded in March 2019, the ...</td>\n",
       "    </tr>\n",
       "    <tr>\n",
       "      <th>15</th>\n",
       "      <td>./pages/codeofconduct\\revisions</td>\n",
       "      <td>= Channel Islands Python User Group Code of Co...</td>\n",
       "    </tr>\n",
       "  </tbody>\n",
       "</table>\n",
       "</div>"
      ],
      "text/plain": [
       "                                            File_Path  \\\n",
       "0   ./pages/2019(2d)02(2d)21(2d)initial(2d)jersey(...   \n",
       "1   ./pages/2019(2d)03(2d)26(2d)march(2d)jersey(2d...   \n",
       "2   ./pages/2019(2d)04(2d)24(2d)april(2d)jersey(2d...   \n",
       "3   ./pages/2019(2d)04(2d)24(2d)march(2d)jersey(2d...   \n",
       "4   ./pages/2019(2d)05(2d)may(2d)jersey(2d)meetup\\...   \n",
       "5   ./pages/2019(2d)06(2d)june(2d)jersey(2d)meetup...   \n",
       "6   ./pages/2019(2d)07(2d)july(2d)jersey(2d)meetup...   \n",
       "7   ./pages/2019(2d)08(2d)august(2d)jersey(2d)meet...   \n",
       "8   ./pages/2019(2d)09(2d)september(2d)jersey(2d)m...   \n",
       "9   ./pages/2019(2d)10(2d)october(2d)jersey(2d)mee...   \n",
       "11                         ./pages/Guernsey\\revisions   \n",
       "12                           ./pages/Jersey\\revisions   \n",
       "14                            ./pages/about\\revisions   \n",
       "15                    ./pages/codeofconduct\\revisions   \n",
       "\n",
       "                                              Content  \n",
       "0   = 2019-02-21 Initial Jersey Meetup =\\n\\n17:30 ...  \n",
       "1   = 2019-03-23 March Jersey Meetup =\\n\\n17:30 Di...  \n",
       "2   ## page was renamed from 2019-04-24-march-jers...  \n",
       "3   Page moved to correct URL: \\n\\nhttps://cipug.o...  \n",
       "4   = 2019-05-23 March Jersey Meetup =\\n\\n17:30 - ...  \n",
       "5   = 2019-06-26 June Jersey Meetup =\\n\\n17:30 - U...  \n",
       "6   = 2019-07 July Jersey Meetup =\\n\\n17:30 - Unit...  \n",
       "7   = 2019-08-29 August Jersey Meetup =\\n\\n17:30 -...  \n",
       "8   = 2019-09-?? September Jersey Meetup =\\n\\n17:3...  \n",
       "9   = 2019-10-24 October Jersey Meetup =\\n\\n17:30 ...  \n",
       "11  = Guernsey =\\n\\nNothing here yet. \\n\\nIf you'r...  \n",
       "12  = Jersey =\\n\\nThe Jersey chapter is currently ...  \n",
       "14  = About CIPUG =\\n\\nFounded in March 2019, the ...  \n",
       "15  = Channel Islands Python User Group Code of Co...  "
      ]
     },
     "execution_count": 8,
     "metadata": {},
     "output_type": "execute_result"
    }
   ],
   "source": [
    "content_df.drop(content_df.index[[10,13,16]])"
   ]
  },
  {
   "cell_type": "code",
   "execution_count": 9,
   "metadata": {},
   "outputs": [],
   "source": [
    "# Export to JSON\n",
    "content_df.to_json(r'old_site_data.json')"
   ]
  },
  {
   "cell_type": "code",
   "execution_count": 11,
   "metadata": {},
   "outputs": [
    {
     "data": {
      "text/plain": [
       "'= 2019-02-21 Initial Jersey Meetup =\\n\\n17:30 Digital Jersey Hub - Edison Room (the board room)\\n\\n== Notes ==\\n\\n4 attendees.\\n\\nGeneral introductions and summary of Python experience to date.\\n\\nLack of visible Python activity compared to other cities / locations\\n\\nDiscussion of education - Scratch & Python. Agreement that, once established, the UG should look to assist & enable Python in education where possible.\\n\\nQuick chat on architectural patterns and how to structure our applications.\\n\\nAgreement that the UG should be kept quite informal, with presentations / speakers being exceptional events.\\n\\n== Resources ==\\n\\n * [[https://mode.com/|Mode.com]]\\n * [[https://developers.google.com/web/tools/lighthouse/|Google Lighthouse]]\\n * [[https://wiki.qt.io/Qt_for_Python|Pyside 2.0]]\\n * [[https://www.edx.org/course/cs50s-introduction-computer-science-harvardx-cs50x|Harvard CS50]]\\n * [[http://pythontutor.com/|Pythontutor.com]]\\n * [[https://codingbat.com/python|Codingbat.com]]\\n * Redis\\n * Dynamo DB\\n\\nNext meetup - TBD\\n'"
      ]
     },
     "execution_count": 11,
     "metadata": {},
     "output_type": "execute_result"
    }
   ],
   "source": [
    "content_df.iloc[0][\"Content\"]"
   ]
  },
  {
   "cell_type": "code",
   "execution_count": 12,
   "metadata": {},
   "outputs": [
    {
     "data": {
      "text/plain": [
       "'## Please edit system and help pages ONLY in the master wiki!\\n## For more information, please see MoinMoin:MoinDev/Translation.\\n##master-page:FrontPage\\n#format wiki\\n#language en\\n#pragma section-numbers off\\n= CIPUG Wiki =\\n\\nWhat is this wiki about?\\n\\nThe Channel Islands Python User Group!\\n\\nCurrently an unratified group but the aim is to cover Python development across the Channel Islands.\\n\\nMore [[about|about us]]\\n\\n== Sub Modules ==\\n\\n * [[Jersey]] - Jersey specific info and events\\n * [[Guernsey]] - Guernsey specific info and events\\n\\n== Get Involved ==\\n\\nLooking for an account? Please see the [[RequestAccount|Request Account]] page for details.\\n\\nOtherwise please email rcwd@cipug.org or more info\\n\\n[[https://www.xkcd.com/353/|{{attachment:xkcd_python.png|I wrote 20 short programs in Python yesterday.  It was wonderful.  Perl, I\\'m leaving you.}}]]\\n\\n[[https://www.xkcd.com/353/|xkcd: Python|target=\"_blank\"]]\\n'"
      ]
     },
     "execution_count": 12,
     "metadata": {},
     "output_type": "execute_result"
    }
   ],
   "source": [
    "content_df.iloc[-1][\"Content\"]"
   ]
  },
  {
   "cell_type": "code",
   "execution_count": 13,
   "metadata": {},
   "outputs": [
    {
     "data": {
      "text/plain": [
       "'= 2019-07 July Jersey Meetup =\\n\\n17:30 - Unit 13, Le Capelain House, Castle Quay [[https://www.google.com/maps/@49.1824762,-2.1155164,20z|Map]]\\n\\n4 attendees, thanks to Phil for the use of his office (despite his not even being on the island!)\\n\\n== Notes ==\\n\\n * General Intros and chat\\n * Discussion of Anvil performance, tracing using timing functions and why having database queries in a loop is a bad idea\\n * Discussion of SQLness vs Excelness for structuring data\\n * Quick demo of Docker and Python (code in the link below)\\n * Discussion of MRM originated, CIPUG project to build a CMS for use on this site and by members\\n * Demo of Github config for the same\\n * Closing chat re data gathering tools and the possibility of a simple, common language to describe data\\n\\n== Resources ==\\n\\n * [[https://blog.jupyter.org/and-voil%C3%A0-f6a2c08a4a93|VoilÃ\\xa0 - Jupyter Notebooks Dashboard]]\\n * [[https://github.com/cipug/docker-demo|Docker demo code]]\\n * [[https://github.com/cipug/literate-robot/|CIPUG Blog Project]]\\n'"
      ]
     },
     "execution_count": 13,
     "metadata": {},
     "output_type": "execute_result"
    }
   ],
   "source": [
    "content_df.iloc[6][\"Content\"]"
   ]
  },
  {
   "cell_type": "code",
   "execution_count": null,
   "metadata": {},
   "outputs": [],
   "source": []
  }
 ],
 "metadata": {
  "kernelspec": {
   "display_name": "Python 3",
   "language": "python",
   "name": "python3"
  },
  "language_info": {
   "codemirror_mode": {
    "name": "ipython",
    "version": 3
   },
   "file_extension": ".py",
   "mimetype": "text/x-python",
   "name": "python",
   "nbconvert_exporter": "python",
   "pygments_lexer": "ipython3",
   "version": "3.6.5"
  }
 },
 "nbformat": 4,
 "nbformat_minor": 2
}
